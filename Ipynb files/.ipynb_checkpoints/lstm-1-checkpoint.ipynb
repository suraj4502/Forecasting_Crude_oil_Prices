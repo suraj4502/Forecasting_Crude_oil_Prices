{
 "cells": [
  {
   "cell_type": "code",
   "execution_count": 1,
   "id": "1e43fd7b",
   "metadata": {},
   "outputs": [],
   "source": [
    "import pandas as pd\n",
    "import numpy as np\n",
    "import tensorflow as tf\n",
    "from tensorflow import keras\n",
    "from tensorflow.keras import layers\n",
    "from tensorflow.keras.models import Sequential\n",
    "from tensorflow.keras.layers import LSTM\n",
    "from tensorflow.keras.layers import Dropout\n",
    "from tensorflow.keras.layers import Dense"
   ]
  },
  {
   "cell_type": "code",
   "execution_count": 2,
   "id": "fbe40a7e",
   "metadata": {},
   "outputs": [],
   "source": [
    "df = pd.read_excel('RBRTE Data.xlsx')"
   ]
  },
  {
   "cell_type": "code",
   "execution_count": 3,
   "id": "24b191a4",
   "metadata": {},
   "outputs": [
    {
     "data": {
      "text/html": [
       "<div>\n",
       "<style scoped>\n",
       "    .dataframe tbody tr th:only-of-type {\n",
       "        vertical-align: middle;\n",
       "    }\n",
       "\n",
       "    .dataframe tbody tr th {\n",
       "        vertical-align: top;\n",
       "    }\n",
       "\n",
       "    .dataframe thead th {\n",
       "        text-align: right;\n",
       "    }\n",
       "</style>\n",
       "<table border=\"1\" class=\"dataframe\">\n",
       "  <thead>\n",
       "    <tr style=\"text-align: right;\">\n",
       "      <th></th>\n",
       "      <th>Date</th>\n",
       "      <th>Price</th>\n",
       "    </tr>\n",
       "  </thead>\n",
       "  <tbody>\n",
       "    <tr>\n",
       "      <th>8906</th>\n",
       "      <td>2022-06-21</td>\n",
       "      <td>118.51</td>\n",
       "    </tr>\n",
       "    <tr>\n",
       "      <th>8907</th>\n",
       "      <td>2022-06-22</td>\n",
       "      <td>115.54</td>\n",
       "    </tr>\n",
       "    <tr>\n",
       "      <th>8908</th>\n",
       "      <td>2022-06-23</td>\n",
       "      <td>114.50</td>\n",
       "    </tr>\n",
       "    <tr>\n",
       "      <th>8909</th>\n",
       "      <td>2022-06-24</td>\n",
       "      <td>117.36</td>\n",
       "    </tr>\n",
       "    <tr>\n",
       "      <th>8910</th>\n",
       "      <td>2022-06-27</td>\n",
       "      <td>119.69</td>\n",
       "    </tr>\n",
       "  </tbody>\n",
       "</table>\n",
       "</div>"
      ],
      "text/plain": [
       "           Date   Price\n",
       "8906 2022-06-21  118.51\n",
       "8907 2022-06-22  115.54\n",
       "8908 2022-06-23  114.50\n",
       "8909 2022-06-24  117.36\n",
       "8910 2022-06-27  119.69"
      ]
     },
     "execution_count": 3,
     "metadata": {},
     "output_type": "execute_result"
    }
   ],
   "source": [
    "df.tail()"
   ]
  },
  {
   "cell_type": "code",
   "execution_count": 4,
   "id": "d1deb6c6",
   "metadata": {},
   "outputs": [],
   "source": [
    "df['Date']= pd.to_datetime(df['Date'])\n",
    "df['Price']= pd.to_numeric(df['Price'])"
   ]
  },
  {
   "cell_type": "code",
   "execution_count": 5,
   "id": "3eedc94a",
   "metadata": {},
   "outputs": [
    {
     "data": {
      "text/html": [
       "<div>\n",
       "<style scoped>\n",
       "    .dataframe tbody tr th:only-of-type {\n",
       "        vertical-align: middle;\n",
       "    }\n",
       "\n",
       "    .dataframe tbody tr th {\n",
       "        vertical-align: top;\n",
       "    }\n",
       "\n",
       "    .dataframe thead th {\n",
       "        text-align: right;\n",
       "    }\n",
       "</style>\n",
       "<table border=\"1\" class=\"dataframe\">\n",
       "  <thead>\n",
       "    <tr style=\"text-align: right;\">\n",
       "      <th></th>\n",
       "      <th>Date</th>\n",
       "      <th>Price</th>\n",
       "    </tr>\n",
       "    <tr>\n",
       "      <th>Date</th>\n",
       "      <th></th>\n",
       "      <th></th>\n",
       "    </tr>\n",
       "  </thead>\n",
       "  <tbody>\n",
       "    <tr>\n",
       "      <th>1987-05-20</th>\n",
       "      <td>1987-05-20</td>\n",
       "      <td>18.63</td>\n",
       "    </tr>\n",
       "    <tr>\n",
       "      <th>1987-05-21</th>\n",
       "      <td>1987-05-21</td>\n",
       "      <td>18.45</td>\n",
       "    </tr>\n",
       "    <tr>\n",
       "      <th>1987-05-22</th>\n",
       "      <td>1987-05-22</td>\n",
       "      <td>18.55</td>\n",
       "    </tr>\n",
       "    <tr>\n",
       "      <th>1987-05-25</th>\n",
       "      <td>1987-05-25</td>\n",
       "      <td>18.60</td>\n",
       "    </tr>\n",
       "    <tr>\n",
       "      <th>1987-05-26</th>\n",
       "      <td>1987-05-26</td>\n",
       "      <td>18.63</td>\n",
       "    </tr>\n",
       "    <tr>\n",
       "      <th>...</th>\n",
       "      <td>...</td>\n",
       "      <td>...</td>\n",
       "    </tr>\n",
       "    <tr>\n",
       "      <th>2022-06-21</th>\n",
       "      <td>2022-06-21</td>\n",
       "      <td>118.51</td>\n",
       "    </tr>\n",
       "    <tr>\n",
       "      <th>2022-06-22</th>\n",
       "      <td>2022-06-22</td>\n",
       "      <td>115.54</td>\n",
       "    </tr>\n",
       "    <tr>\n",
       "      <th>2022-06-23</th>\n",
       "      <td>2022-06-23</td>\n",
       "      <td>114.50</td>\n",
       "    </tr>\n",
       "    <tr>\n",
       "      <th>2022-06-24</th>\n",
       "      <td>2022-06-24</td>\n",
       "      <td>117.36</td>\n",
       "    </tr>\n",
       "    <tr>\n",
       "      <th>2022-06-27</th>\n",
       "      <td>2022-06-27</td>\n",
       "      <td>119.69</td>\n",
       "    </tr>\n",
       "  </tbody>\n",
       "</table>\n",
       "<p>8911 rows × 2 columns</p>\n",
       "</div>"
      ],
      "text/plain": [
       "                 Date   Price\n",
       "Date                         \n",
       "1987-05-20 1987-05-20   18.63\n",
       "1987-05-21 1987-05-21   18.45\n",
       "1987-05-22 1987-05-22   18.55\n",
       "1987-05-25 1987-05-25   18.60\n",
       "1987-05-26 1987-05-26   18.63\n",
       "...               ...     ...\n",
       "2022-06-21 2022-06-21  118.51\n",
       "2022-06-22 2022-06-22  115.54\n",
       "2022-06-23 2022-06-23  114.50\n",
       "2022-06-24 2022-06-24  117.36\n",
       "2022-06-27 2022-06-27  119.69\n",
       "\n",
       "[8911 rows x 2 columns]"
      ]
     },
     "execution_count": 5,
     "metadata": {},
     "output_type": "execute_result"
    }
   ],
   "source": [
    "df.set_index(df['Date'])"
   ]
  },
  {
   "cell_type": "code",
   "execution_count": 6,
   "id": "61603d15",
   "metadata": {},
   "outputs": [],
   "source": [
    "from sklearn.preprocessing import MinMaxScaler\n",
    "scaler = MinMaxScaler(feature_range = (0, 1))\n",
    "df=df['Price'].values.astype(float)\n",
    "df = df.reshape(-1,1)\n",
    "scaled_price = scaler.fit_transform(df)"
   ]
  },
  {
   "cell_type": "code",
   "execution_count": 7,
   "id": "fbd921f2",
   "metadata": {},
   "outputs": [],
   "source": [
    "#splitting the data into train and test\n",
    "train_size = int(len(scaled_price) * 0.80)\n",
    "test_size = len(scaled_price)- train_size\n",
    "train , test = scaled_price[0:train_size,:] , scaled_price[train_size:len(scaled_price),:]"
   ]
  },
  {
   "cell_type": "code",
   "execution_count": 8,
   "id": "46c294a4",
   "metadata": {},
   "outputs": [],
   "source": [
    "# convert an array of values into a dataset matrix\n",
    "def create_dataset(dataset, time_step=1):\n",
    "\tdataX, dataY = [], []\n",
    "\tfor i in range(len(dataset)-time_step-1):\n",
    "\t\ta = dataset[i:(i+time_step), 0]   ###i=0, 0,1,2,3-----99   100 \n",
    "\t\tdataX.append(a)\n",
    "\t\tdataY.append(dataset[i + time_step, 0])\n",
    "\treturn np.array(dataX), np.array(dataY)"
   ]
  },
  {
   "cell_type": "code",
   "execution_count": 9,
   "id": "c348ea9e",
   "metadata": {},
   "outputs": [],
   "source": [
    "time_step = 80\n",
    "X_train, y_train = create_dataset(train, time_step)\n",
    "X_test, y_test = create_dataset(test, time_step)"
   ]
  },
  {
   "cell_type": "code",
   "execution_count": 10,
   "id": "df3c8fb7",
   "metadata": {},
   "outputs": [],
   "source": [
    "# reshape input to be [samples, time steps, features] which is required for LSTM\n",
    "X_train =X_train.reshape(X_train.shape[0],X_train.shape[1] , 1)\n",
    "X_test = X_test.reshape(X_test.shape[0],X_test.shape[1] , 1)"
   ]
  },
  {
   "cell_type": "code",
   "execution_count": 11,
   "id": "02948e1c",
   "metadata": {},
   "outputs": [],
   "source": [
    "from tensorflow.keras.models import Sequential\n",
    "from tensorflow.keras.layers import Dense\n",
    "from tensorflow.keras.layers import LSTM"
   ]
  },
  {
   "cell_type": "code",
   "execution_count": 12,
   "id": "485a2170",
   "metadata": {},
   "outputs": [
    {
     "data": {
      "text/plain": [
       "(7047, 80, 1)"
      ]
     },
     "execution_count": 12,
     "metadata": {},
     "output_type": "execute_result"
    }
   ],
   "source": [
    "X_train.shape"
   ]
  },
  {
   "cell_type": "code",
   "execution_count": 13,
   "id": "c50b4c4b",
   "metadata": {},
   "outputs": [],
   "source": [
    "model=Sequential()\n",
    "model.add(LSTM(50,return_sequences=True,input_shape=(80,1)))\n",
    "model.add(LSTM(50,return_sequences=True))\n",
    "model.add(LSTM(50))\n",
    "model.add(Dense(1))\n",
    "model.compile(loss='mean_squared_error',optimizer='adam')"
   ]
  },
  {
   "cell_type": "code",
   "execution_count": 14,
   "id": "620daef8",
   "metadata": {},
   "outputs": [
    {
     "name": "stdout",
     "output_type": "stream",
     "text": [
      "Model: \"sequential\"\n",
      "_________________________________________________________________\n",
      " Layer (type)                Output Shape              Param #   \n",
      "=================================================================\n",
      " lstm (LSTM)                 (None, 80, 50)            10400     \n",
      "                                                                 \n",
      " lstm_1 (LSTM)               (None, 80, 50)            20200     \n",
      "                                                                 \n",
      " lstm_2 (LSTM)               (None, 50)                20200     \n",
      "                                                                 \n",
      " dense (Dense)               (None, 1)                 51        \n",
      "                                                                 \n",
      "=================================================================\n",
      "Total params: 50,851\n",
      "Trainable params: 50,851\n",
      "Non-trainable params: 0\n",
      "_________________________________________________________________\n"
     ]
    }
   ],
   "source": [
    "model.summary()"
   ]
  },
  {
   "cell_type": "code",
   "execution_count": 15,
   "id": "a762cc80",
   "metadata": {},
   "outputs": [
    {
     "name": "stdout",
     "output_type": "stream",
     "text": [
      "Epoch 1/100\n",
      "111/111 [==============================] - 30s 169ms/step - loss: 0.0073 - val_loss: 0.0012\n",
      "Epoch 2/100\n",
      "111/111 [==============================] - 18s 160ms/step - loss: 5.5037e-04 - val_loss: 0.0011\n",
      "Epoch 3/100\n",
      "111/111 [==============================] - 17s 151ms/step - loss: 4.7642e-04 - val_loss: 0.0012\n",
      "Epoch 4/100\n",
      "111/111 [==============================] - 17s 153ms/step - loss: 4.6543e-04 - val_loss: 0.0011\n",
      "Epoch 5/100\n",
      "111/111 [==============================] - 17s 152ms/step - loss: 4.0158e-04 - val_loss: 9.6969e-04\n",
      "Epoch 6/100\n",
      "111/111 [==============================] - 16s 148ms/step - loss: 3.5877e-04 - val_loss: 6.7435e-04\n",
      "Epoch 7/100\n",
      "111/111 [==============================] - 19s 176ms/step - loss: 3.1792e-04 - val_loss: 6.4009e-04\n",
      "Epoch 8/100\n",
      "111/111 [==============================] - 23s 208ms/step - loss: 3.3258e-04 - val_loss: 5.8938e-04\n",
      "Epoch 9/100\n",
      "111/111 [==============================] - 21s 189ms/step - loss: 2.6997e-04 - val_loss: 5.6631e-04\n",
      "Epoch 10/100\n",
      "111/111 [==============================] - 20s 177ms/step - loss: 3.0754e-04 - val_loss: 6.0599e-04\n",
      "Epoch 11/100\n",
      "111/111 [==============================] - 20s 181ms/step - loss: 2.4374e-04 - val_loss: 4.9585e-04\n",
      "Epoch 12/100\n",
      "111/111 [==============================] - 21s 193ms/step - loss: 2.2594e-04 - val_loss: 6.5298e-04\n",
      "Epoch 13/100\n",
      "111/111 [==============================] - 19s 176ms/step - loss: 2.1107e-04 - val_loss: 4.3450e-04\n",
      "Epoch 14/100\n",
      "111/111 [==============================] - 20s 182ms/step - loss: 1.9028e-04 - val_loss: 3.9760e-04\n",
      "Epoch 15/100\n",
      "111/111 [==============================] - 19s 175ms/step - loss: 1.9067e-04 - val_loss: 3.6198e-04\n",
      "Epoch 16/100\n",
      "111/111 [==============================] - 20s 182ms/step - loss: 2.0767e-04 - val_loss: 4.7293e-04\n",
      "Epoch 17/100\n",
      "111/111 [==============================] - 19s 171ms/step - loss: 1.7876e-04 - val_loss: 4.4646e-04\n",
      "Epoch 18/100\n",
      "111/111 [==============================] - 20s 180ms/step - loss: 1.5953e-04 - val_loss: 2.9774e-04\n",
      "Epoch 19/100\n",
      "111/111 [==============================] - 21s 186ms/step - loss: 1.3937e-04 - val_loss: 2.7604e-04\n",
      "Epoch 20/100\n",
      "111/111 [==============================] - 23s 210ms/step - loss: 1.4061e-04 - val_loss: 3.2526e-04\n",
      "Epoch 21/100\n",
      "111/111 [==============================] - 21s 191ms/step - loss: 1.2712e-04 - val_loss: 2.4570e-04\n",
      "Epoch 22/100\n",
      "111/111 [==============================] - 21s 193ms/step - loss: 1.4337e-04 - val_loss: 2.9346e-04\n",
      "Epoch 23/100\n",
      "111/111 [==============================] - 21s 189ms/step - loss: 1.3885e-04 - val_loss: 5.4159e-04\n",
      "Epoch 24/100\n",
      "111/111 [==============================] - 20s 180ms/step - loss: 1.2133e-04 - val_loss: 5.0649e-04\n",
      "Epoch 25/100\n",
      "111/111 [==============================] - 22s 197ms/step - loss: 1.2568e-04 - val_loss: 2.2426e-04\n",
      "Epoch 26/100\n",
      "111/111 [==============================] - 19s 169ms/step - loss: 1.0429e-04 - val_loss: 2.4544e-04\n",
      "Epoch 27/100\n",
      "111/111 [==============================] - 18s 167ms/step - loss: 1.0553e-04 - val_loss: 1.8710e-04\n",
      "Epoch 28/100\n",
      "111/111 [==============================] - 17s 151ms/step - loss: 1.1889e-04 - val_loss: 2.9134e-04\n",
      "Epoch 29/100\n",
      "111/111 [==============================] - 18s 162ms/step - loss: 1.1792e-04 - val_loss: 1.7863e-04\n",
      "Epoch 30/100\n",
      "111/111 [==============================] - 18s 165ms/step - loss: 8.5280e-05 - val_loss: 1.7716e-04\n",
      "Epoch 31/100\n",
      "111/111 [==============================] - 17s 150ms/step - loss: 1.0090e-04 - val_loss: 2.0467e-04\n",
      "Epoch 32/100\n",
      "111/111 [==============================] - 17s 153ms/step - loss: 8.3551e-05 - val_loss: 1.9057e-04\n",
      "Epoch 33/100\n",
      "111/111 [==============================] - 17s 155ms/step - loss: 8.5558e-05 - val_loss: 1.6282e-04\n",
      "Epoch 34/100\n",
      "111/111 [==============================] - 16s 147ms/step - loss: 8.2347e-05 - val_loss: 1.6377e-04\n",
      "Epoch 35/100\n",
      "111/111 [==============================] - 17s 150ms/step - loss: 8.1530e-05 - val_loss: 1.7913e-04\n",
      "Epoch 36/100\n",
      "111/111 [==============================] - 17s 156ms/step - loss: 9.1120e-05 - val_loss: 1.6537e-04\n",
      "Epoch 37/100\n",
      "111/111 [==============================] - 17s 151ms/step - loss: 8.2163e-05 - val_loss: 1.5983e-04\n",
      "Epoch 38/100\n",
      "111/111 [==============================] - 17s 151ms/step - loss: 7.6493e-05 - val_loss: 1.5974e-04\n",
      "Epoch 39/100\n",
      "111/111 [==============================] - 16s 143ms/step - loss: 7.7835e-05 - val_loss: 3.4123e-04\n",
      "Epoch 40/100\n",
      "111/111 [==============================] - 17s 151ms/step - loss: 9.4920e-05 - val_loss: 1.7144e-04\n",
      "Epoch 41/100\n",
      "111/111 [==============================] - 17s 151ms/step - loss: 7.7448e-05 - val_loss: 2.7285e-04\n",
      "Epoch 42/100\n",
      "111/111 [==============================] - 17s 150ms/step - loss: 8.5002e-05 - val_loss: 1.5944e-04\n",
      "Epoch 43/100\n",
      "111/111 [==============================] - 17s 152ms/step - loss: 7.8544e-05 - val_loss: 1.9529e-04\n",
      "Epoch 44/100\n",
      "111/111 [==============================] - 18s 159ms/step - loss: 8.3492e-05 - val_loss: 1.5717e-04\n",
      "Epoch 45/100\n",
      "111/111 [==============================] - 17s 158ms/step - loss: 8.8869e-05 - val_loss: 1.5426e-04\n",
      "Epoch 46/100\n",
      "111/111 [==============================] - 17s 153ms/step - loss: 8.1099e-05 - val_loss: 1.8827e-04\n",
      "Epoch 47/100\n",
      "111/111 [==============================] - 18s 158ms/step - loss: 8.2183e-05 - val_loss: 1.8547e-04\n",
      "Epoch 48/100\n",
      "111/111 [==============================] - 17s 149ms/step - loss: 7.7976e-05 - val_loss: 1.5362e-04\n",
      "Epoch 49/100\n",
      "111/111 [==============================] - 14s 124ms/step - loss: 8.6895e-05 - val_loss: 1.6524e-04\n",
      "Epoch 50/100\n",
      "111/111 [==============================] - 12s 106ms/step - loss: 7.9003e-05 - val_loss: 2.0026e-04\n",
      "Epoch 51/100\n",
      "111/111 [==============================] - 13s 117ms/step - loss: 8.1500e-05 - val_loss: 1.7517e-04\n",
      "Epoch 52/100\n",
      "111/111 [==============================] - 13s 117ms/step - loss: 8.8210e-05 - val_loss: 1.7146e-04\n",
      "Epoch 53/100\n",
      "111/111 [==============================] - 13s 115ms/step - loss: 8.1103e-05 - val_loss: 1.5100e-04\n",
      "Epoch 54/100\n",
      "111/111 [==============================] - 13s 117ms/step - loss: 8.3101e-05 - val_loss: 5.5966e-04\n",
      "Epoch 55/100\n",
      "111/111 [==============================] - 12s 111ms/step - loss: 1.2650e-04 - val_loss: 1.6183e-04\n",
      "Epoch 56/100\n",
      "111/111 [==============================] - 13s 116ms/step - loss: 7.8272e-05 - val_loss: 1.5763e-04\n",
      "Epoch 57/100\n",
      "111/111 [==============================] - 13s 113ms/step - loss: 7.4703e-05 - val_loss: 2.1053e-04\n",
      "Epoch 58/100\n",
      "111/111 [==============================] - 13s 114ms/step - loss: 7.5685e-05 - val_loss: 1.6960e-04\n",
      "Epoch 59/100\n",
      "111/111 [==============================] - 13s 115ms/step - loss: 8.2939e-05 - val_loss: 1.5683e-04\n",
      "Epoch 60/100\n",
      "111/111 [==============================] - 13s 116ms/step - loss: 7.9303e-05 - val_loss: 1.6591e-04\n",
      "Epoch 61/100\n",
      "111/111 [==============================] - 16s 143ms/step - loss: 8.6386e-05 - val_loss: 1.4946e-04\n",
      "Epoch 62/100\n",
      "111/111 [==============================] - 13s 118ms/step - loss: 8.8830e-05 - val_loss: 2.9730e-04\n",
      "Epoch 63/100\n",
      "111/111 [==============================] - 13s 118ms/step - loss: 8.6615e-05 - val_loss: 1.8376e-04\n",
      "Epoch 64/100\n",
      "111/111 [==============================] - 13s 118ms/step - loss: 8.1072e-05 - val_loss: 1.6635e-04\n",
      "Epoch 65/100\n",
      "111/111 [==============================] - 12s 113ms/step - loss: 7.2525e-05 - val_loss: 1.5909e-04\n",
      "Epoch 66/100\n",
      "111/111 [==============================] - 14s 122ms/step - loss: 7.3956e-05 - val_loss: 1.4826e-04\n",
      "Epoch 67/100\n",
      "111/111 [==============================] - 12s 111ms/step - loss: 7.8672e-05 - val_loss: 1.5139e-04\n",
      "Epoch 68/100\n",
      "111/111 [==============================] - 12s 110ms/step - loss: 7.9527e-05 - val_loss: 1.5043e-04\n",
      "Epoch 69/100\n",
      "111/111 [==============================] - 13s 116ms/step - loss: 7.4708e-05 - val_loss: 1.4703e-04\n",
      "Epoch 70/100\n",
      "111/111 [==============================] - 13s 117ms/step - loss: 7.0446e-05 - val_loss: 1.7688e-04\n",
      "Epoch 71/100\n",
      "111/111 [==============================] - 12s 110ms/step - loss: 7.6440e-05 - val_loss: 1.7166e-04\n",
      "Epoch 72/100\n",
      "111/111 [==============================] - 13s 120ms/step - loss: 7.5734e-05 - val_loss: 1.4939e-04\n",
      "Epoch 73/100\n",
      "111/111 [==============================] - 13s 113ms/step - loss: 8.3071e-05 - val_loss: 1.4910e-04\n"
     ]
    },
    {
     "name": "stdout",
     "output_type": "stream",
     "text": [
      "Epoch 74/100\n",
      "111/111 [==============================] - 13s 118ms/step - loss: 7.1763e-05 - val_loss: 1.4663e-04\n",
      "Epoch 75/100\n",
      "111/111 [==============================] - 13s 117ms/step - loss: 7.0173e-05 - val_loss: 1.5441e-04\n",
      "Epoch 76/100\n",
      "111/111 [==============================] - 13s 119ms/step - loss: 7.3677e-05 - val_loss: 1.5105e-04\n",
      "Epoch 77/100\n",
      "111/111 [==============================] - 12s 112ms/step - loss: 8.1942e-05 - val_loss: 1.4895e-04\n",
      "Epoch 78/100\n",
      "111/111 [==============================] - 13s 113ms/step - loss: 7.5821e-05 - val_loss: 1.5332e-04\n",
      "Epoch 79/100\n",
      "111/111 [==============================] - 12s 112ms/step - loss: 7.4619e-05 - val_loss: 1.5555e-04\n",
      "Epoch 80/100\n",
      "111/111 [==============================] - 12s 112ms/step - loss: 7.5064e-05 - val_loss: 1.4675e-04\n",
      "Epoch 81/100\n",
      "111/111 [==============================] - 12s 109ms/step - loss: 7.0692e-05 - val_loss: 2.6895e-04\n",
      "Epoch 82/100\n",
      "111/111 [==============================] - 13s 116ms/step - loss: 7.9262e-05 - val_loss: 1.4609e-04\n",
      "Epoch 83/100\n",
      "111/111 [==============================] - 13s 114ms/step - loss: 7.3271e-05 - val_loss: 1.5650e-04\n",
      "Epoch 84/100\n",
      "111/111 [==============================] - 13s 116ms/step - loss: 7.6748e-05 - val_loss: 1.4967e-04\n",
      "Epoch 85/100\n",
      "111/111 [==============================] - 13s 118ms/step - loss: 6.9745e-05 - val_loss: 1.6429e-04\n",
      "Epoch 86/100\n",
      "111/111 [==============================] - 13s 118ms/step - loss: 7.2981e-05 - val_loss: 1.5461e-04\n",
      "Epoch 87/100\n",
      "111/111 [==============================] - 14s 128ms/step - loss: 7.1631e-05 - val_loss: 2.4964e-04\n",
      "Epoch 88/100\n",
      "111/111 [==============================] - 13s 121ms/step - loss: 7.2430e-05 - val_loss: 1.9991e-04\n",
      "Epoch 89/100\n",
      "111/111 [==============================] - 14s 127ms/step - loss: 7.4502e-05 - val_loss: 1.4767e-04\n",
      "Epoch 90/100\n",
      "111/111 [==============================] - 12s 108ms/step - loss: 7.1982e-05 - val_loss: 1.6485e-04\n",
      "Epoch 91/100\n",
      "111/111 [==============================] - 12s 111ms/step - loss: 7.2770e-05 - val_loss: 1.5089e-04\n",
      "Epoch 92/100\n",
      "111/111 [==============================] - 13s 113ms/step - loss: 7.3231e-05 - val_loss: 1.7879e-04\n",
      "Epoch 93/100\n",
      "111/111 [==============================] - 12s 112ms/step - loss: 6.9612e-05 - val_loss: 1.4857e-04\n",
      "Epoch 94/100\n",
      "111/111 [==============================] - 12s 112ms/step - loss: 6.9433e-05 - val_loss: 1.4576e-04\n",
      "Epoch 95/100\n",
      "111/111 [==============================] - 12s 110ms/step - loss: 7.0380e-05 - val_loss: 1.9622e-04\n",
      "Epoch 96/100\n",
      "111/111 [==============================] - 12s 109ms/step - loss: 7.4212e-05 - val_loss: 1.4420e-04\n",
      "Epoch 97/100\n",
      "111/111 [==============================] - 13s 113ms/step - loss: 7.2634e-05 - val_loss: 1.4951e-04\n",
      "Epoch 98/100\n",
      "111/111 [==============================] - 13s 114ms/step - loss: 9.0631e-05 - val_loss: 1.4357e-04\n",
      "Epoch 99/100\n",
      "111/111 [==============================] - 13s 121ms/step - loss: 7.0321e-05 - val_loss: 1.4511e-04\n",
      "Epoch 100/100\n",
      "111/111 [==============================] - 13s 117ms/step - loss: 6.7962e-05 - val_loss: 1.5249e-04\n"
     ]
    },
    {
     "data": {
      "text/plain": [
       "<keras.callbacks.History at 0x2428e118760>"
      ]
     },
     "execution_count": 15,
     "metadata": {},
     "output_type": "execute_result"
    }
   ],
   "source": [
    "model.fit(X_train,y_train,validation_data=(X_test,y_test),epochs=100,batch_size=64,verbose=1)"
   ]
  },
  {
   "cell_type": "code",
   "execution_count": 16,
   "id": "f3dfa370",
   "metadata": {},
   "outputs": [
    {
     "name": "stdout",
     "output_type": "stream",
     "text": [
      "221/221 [==============================] - 7s 24ms/step\n"
     ]
    }
   ],
   "source": [
    "train_predict=model.predict(X_train)"
   ]
  },
  {
   "cell_type": "code",
   "execution_count": 17,
   "id": "67b98a92",
   "metadata": {},
   "outputs": [
    {
     "data": {
      "text/plain": [
       "(1702, 80, 1)"
      ]
     },
     "execution_count": 17,
     "metadata": {},
     "output_type": "execute_result"
    }
   ],
   "source": [
    "X_test.shape"
   ]
  },
  {
   "cell_type": "code",
   "execution_count": 18,
   "id": "3d6b951a",
   "metadata": {},
   "outputs": [
    {
     "name": "stdout",
     "output_type": "stream",
     "text": [
      "54/54 [==============================] - 1s 22ms/step\n"
     ]
    }
   ],
   "source": [
    "test_predict=model.predict(X_test)"
   ]
  },
  {
   "cell_type": "code",
   "execution_count": 19,
   "id": "35bcfba2",
   "metadata": {},
   "outputs": [
    {
     "data": {
      "text/plain": [
       "0.00847977164879095"
      ]
     },
     "execution_count": 19,
     "metadata": {},
     "output_type": "execute_result"
    }
   ],
   "source": [
    "import math\n",
    "from sklearn.metrics import mean_squared_error\n",
    "math.sqrt(mean_squared_error(y_train,train_predict))"
   ]
  },
  {
   "cell_type": "code",
   "execution_count": 20,
   "id": "577f0713",
   "metadata": {},
   "outputs": [
    {
     "data": {
      "text/plain": [
       "0.012348508844109273"
      ]
     },
     "execution_count": 20,
     "metadata": {},
     "output_type": "execute_result"
    }
   ],
   "source": [
    "math.sqrt(mean_squared_error(y_test,test_predict))"
   ]
  },
  {
   "cell_type": "code",
   "execution_count": 21,
   "id": "d017219c",
   "metadata": {},
   "outputs": [],
   "source": [
    "df1 =pd.read_excel('RBRTE Data.xlsx')"
   ]
  },
  {
   "cell_type": "code",
   "execution_count": 22,
   "id": "a064fb4a",
   "metadata": {},
   "outputs": [],
   "source": [
    "df1['Date']= pd.to_datetime(df1['Date'])\n",
    "df1['Price']= pd.to_numeric(df1['Price'])"
   ]
  },
  {
   "cell_type": "code",
   "execution_count": 23,
   "id": "c1da99e8",
   "metadata": {},
   "outputs": [
    {
     "data": {
      "text/html": [
       "<div>\n",
       "<style scoped>\n",
       "    .dataframe tbody tr th:only-of-type {\n",
       "        vertical-align: middle;\n",
       "    }\n",
       "\n",
       "    .dataframe tbody tr th {\n",
       "        vertical-align: top;\n",
       "    }\n",
       "\n",
       "    .dataframe thead th {\n",
       "        text-align: right;\n",
       "    }\n",
       "</style>\n",
       "<table border=\"1\" class=\"dataframe\">\n",
       "  <thead>\n",
       "    <tr style=\"text-align: right;\">\n",
       "      <th></th>\n",
       "      <th>Date</th>\n",
       "      <th>Price</th>\n",
       "    </tr>\n",
       "    <tr>\n",
       "      <th>Date</th>\n",
       "      <th></th>\n",
       "      <th></th>\n",
       "    </tr>\n",
       "  </thead>\n",
       "  <tbody>\n",
       "    <tr>\n",
       "      <th>1987-05-20</th>\n",
       "      <td>1987-05-20</td>\n",
       "      <td>18.63</td>\n",
       "    </tr>\n",
       "    <tr>\n",
       "      <th>1987-05-21</th>\n",
       "      <td>1987-05-21</td>\n",
       "      <td>18.45</td>\n",
       "    </tr>\n",
       "    <tr>\n",
       "      <th>1987-05-22</th>\n",
       "      <td>1987-05-22</td>\n",
       "      <td>18.55</td>\n",
       "    </tr>\n",
       "    <tr>\n",
       "      <th>1987-05-25</th>\n",
       "      <td>1987-05-25</td>\n",
       "      <td>18.60</td>\n",
       "    </tr>\n",
       "    <tr>\n",
       "      <th>1987-05-26</th>\n",
       "      <td>1987-05-26</td>\n",
       "      <td>18.63</td>\n",
       "    </tr>\n",
       "    <tr>\n",
       "      <th>...</th>\n",
       "      <td>...</td>\n",
       "      <td>...</td>\n",
       "    </tr>\n",
       "    <tr>\n",
       "      <th>2022-06-21</th>\n",
       "      <td>2022-06-21</td>\n",
       "      <td>118.51</td>\n",
       "    </tr>\n",
       "    <tr>\n",
       "      <th>2022-06-22</th>\n",
       "      <td>2022-06-22</td>\n",
       "      <td>115.54</td>\n",
       "    </tr>\n",
       "    <tr>\n",
       "      <th>2022-06-23</th>\n",
       "      <td>2022-06-23</td>\n",
       "      <td>114.50</td>\n",
       "    </tr>\n",
       "    <tr>\n",
       "      <th>2022-06-24</th>\n",
       "      <td>2022-06-24</td>\n",
       "      <td>117.36</td>\n",
       "    </tr>\n",
       "    <tr>\n",
       "      <th>2022-06-27</th>\n",
       "      <td>2022-06-27</td>\n",
       "      <td>119.69</td>\n",
       "    </tr>\n",
       "  </tbody>\n",
       "</table>\n",
       "<p>8911 rows × 2 columns</p>\n",
       "</div>"
      ],
      "text/plain": [
       "                 Date   Price\n",
       "Date                         \n",
       "1987-05-20 1987-05-20   18.63\n",
       "1987-05-21 1987-05-21   18.45\n",
       "1987-05-22 1987-05-22   18.55\n",
       "1987-05-25 1987-05-25   18.60\n",
       "1987-05-26 1987-05-26   18.63\n",
       "...               ...     ...\n",
       "2022-06-21 2022-06-21  118.51\n",
       "2022-06-22 2022-06-22  115.54\n",
       "2022-06-23 2022-06-23  114.50\n",
       "2022-06-24 2022-06-24  117.36\n",
       "2022-06-27 2022-06-27  119.69\n",
       "\n",
       "[8911 rows x 2 columns]"
      ]
     },
     "execution_count": 23,
     "metadata": {},
     "output_type": "execute_result"
    }
   ],
   "source": [
    "df1.set_index(df1['Date'])"
   ]
  },
  {
   "cell_type": "code",
   "execution_count": 24,
   "id": "2da8de53",
   "metadata": {},
   "outputs": [],
   "source": [
    "train_1   = df1.iloc[0:train_size,:] "
   ]
  },
  {
   "cell_type": "code",
   "execution_count": 35,
   "id": "dc2a7f8f",
   "metadata": {},
   "outputs": [],
   "source": [
    "test_1 = df1.tail(1702)"
   ]
  },
  {
   "cell_type": "code",
   "execution_count": 26,
   "id": "8c63e4b7",
   "metadata": {},
   "outputs": [],
   "source": [
    "train_predictions= scaler.inverse_transform(train_predict)"
   ]
  },
  {
   "cell_type": "code",
   "execution_count": 27,
   "id": "87f94b9f",
   "metadata": {},
   "outputs": [],
   "source": [
    "train_predictions = pd.DataFrame(train_predictions,columns=['predicted_price'])"
   ]
  },
  {
   "cell_type": "code",
   "execution_count": 28,
   "id": "4b31d432",
   "metadata": {},
   "outputs": [
    {
     "data": {
      "text/html": [
       "<div>\n",
       "<style scoped>\n",
       "    .dataframe tbody tr th:only-of-type {\n",
       "        vertical-align: middle;\n",
       "    }\n",
       "\n",
       "    .dataframe tbody tr th {\n",
       "        vertical-align: top;\n",
       "    }\n",
       "\n",
       "    .dataframe thead th {\n",
       "        text-align: right;\n",
       "    }\n",
       "</style>\n",
       "<table border=\"1\" class=\"dataframe\">\n",
       "  <thead>\n",
       "    <tr style=\"text-align: right;\">\n",
       "      <th></th>\n",
       "      <th>Date</th>\n",
       "      <th>Price</th>\n",
       "      <th>predicted_price</th>\n",
       "    </tr>\n",
       "  </thead>\n",
       "  <tbody>\n",
       "    <tr>\n",
       "      <th>0</th>\n",
       "      <td>1987-05-20</td>\n",
       "      <td>18.63</td>\n",
       "      <td>17.710529</td>\n",
       "    </tr>\n",
       "    <tr>\n",
       "      <th>1</th>\n",
       "      <td>1987-05-21</td>\n",
       "      <td>18.45</td>\n",
       "      <td>18.081800</td>\n",
       "    </tr>\n",
       "    <tr>\n",
       "      <th>2</th>\n",
       "      <td>1987-05-22</td>\n",
       "      <td>18.55</td>\n",
       "      <td>18.112291</td>\n",
       "    </tr>\n",
       "    <tr>\n",
       "      <th>3</th>\n",
       "      <td>1987-05-25</td>\n",
       "      <td>18.60</td>\n",
       "      <td>18.051460</td>\n",
       "    </tr>\n",
       "    <tr>\n",
       "      <th>4</th>\n",
       "      <td>1987-05-26</td>\n",
       "      <td>18.63</td>\n",
       "      <td>18.291286</td>\n",
       "    </tr>\n",
       "    <tr>\n",
       "      <th>...</th>\n",
       "      <td>...</td>\n",
       "      <td>...</td>\n",
       "      <td>...</td>\n",
       "    </tr>\n",
       "    <tr>\n",
       "      <th>7042</th>\n",
       "      <td>2015-02-24</td>\n",
       "      <td>60.33</td>\n",
       "      <td>61.118645</td>\n",
       "    </tr>\n",
       "    <tr>\n",
       "      <th>7043</th>\n",
       "      <td>2015-02-25</td>\n",
       "      <td>59.77</td>\n",
       "      <td>61.804501</td>\n",
       "    </tr>\n",
       "    <tr>\n",
       "      <th>7044</th>\n",
       "      <td>2015-02-26</td>\n",
       "      <td>61.39</td>\n",
       "      <td>59.822330</td>\n",
       "    </tr>\n",
       "    <tr>\n",
       "      <th>7045</th>\n",
       "      <td>2015-02-27</td>\n",
       "      <td>61.89</td>\n",
       "      <td>60.834160</td>\n",
       "    </tr>\n",
       "    <tr>\n",
       "      <th>7046</th>\n",
       "      <td>2015-03-02</td>\n",
       "      <td>60.75</td>\n",
       "      <td>62.093460</td>\n",
       "    </tr>\n",
       "  </tbody>\n",
       "</table>\n",
       "<p>7047 rows × 3 columns</p>\n",
       "</div>"
      ],
      "text/plain": [
       "           Date  Price  predicted_price\n",
       "0    1987-05-20  18.63        17.710529\n",
       "1    1987-05-21  18.45        18.081800\n",
       "2    1987-05-22  18.55        18.112291\n",
       "3    1987-05-25  18.60        18.051460\n",
       "4    1987-05-26  18.63        18.291286\n",
       "...         ...    ...              ...\n",
       "7042 2015-02-24  60.33        61.118645\n",
       "7043 2015-02-25  59.77        61.804501\n",
       "7044 2015-02-26  61.39        59.822330\n",
       "7045 2015-02-27  61.89        60.834160\n",
       "7046 2015-03-02  60.75        62.093460\n",
       "\n",
       "[7047 rows x 3 columns]"
      ]
     },
     "execution_count": 28,
     "metadata": {},
     "output_type": "execute_result"
    }
   ],
   "source": [
    "result =  pd.concat([train_1, train_predictions], axis=1, join='inner')\n",
    "result"
   ]
  },
  {
   "cell_type": "code",
   "execution_count": 29,
   "id": "8ba2cdc3",
   "metadata": {},
   "outputs": [
    {
     "data": {
      "image/png": "[encoded data removed]",
      "text/plain": [
       "<Figure size 864x432 with 1 Axes>"
      ]
     },
     "metadata": {
      "needs_background": "light"
     },
     "output_type": "display_data"
    }
   ],
   "source": [
    "result.plot(x='Date',figsize=(12,6));"
   ]
  },
  {
   "cell_type": "code",
   "execution_count": 36,
   "id": "343d7f44",
   "metadata": {},
   "outputs": [],
   "source": [
    "test_predictions= scaler.inverse_transform(test_predict)\n"
   ]
  },
  {
   "cell_type": "code",
   "execution_count": 37,
   "id": "93c31d83",
   "metadata": {},
   "outputs": [],
   "source": [
    "test_predictions = pd.DataFrame(test_predictions,columns=['predicted_price'])"
   ]
  },
  {
   "cell_type": "code",
   "execution_count": 61,
   "id": "a7d134f4",
   "metadata": {},
   "outputs": [],
   "source": [
    "test_1.reset_index(inplace=True)"
   ]
  },
  {
   "cell_type": "code",
   "execution_count": 65,
   "id": "738ab02e",
   "metadata": {},
   "outputs": [],
   "source": [
    "result_1= pd.concat([test_1,test_predictions], axis=1, join='inner')"
   ]
  },
  {
   "cell_type": "code",
   "execution_count": 74,
   "id": "8811bbbf",
   "metadata": {},
   "outputs": [],
   "source": [
    "result_1=result_1.set_index(result_1['index'])"
   ]
  },
  {
   "cell_type": "code",
   "execution_count": 77,
   "id": "1b0327a4",
   "metadata": {},
   "outputs": [],
   "source": [
    "result_1.drop('index',axis=1,inplace=True)"
   ]
  },
  {
   "cell_type": "code",
   "execution_count": 78,
   "id": "5e8183ea",
   "metadata": {},
   "outputs": [
    {
     "data": {
      "text/html": [
       "<div>\n",
       "<style scoped>\n",
       "    .dataframe tbody tr th:only-of-type {\n",
       "        vertical-align: middle;\n",
       "    }\n",
       "\n",
       "    .dataframe tbody tr th {\n",
       "        vertical-align: top;\n",
       "    }\n",
       "\n",
       "    .dataframe thead th {\n",
       "        text-align: right;\n",
       "    }\n",
       "</style>\n",
       "<table border=\"1\" class=\"dataframe\">\n",
       "  <thead>\n",
       "    <tr style=\"text-align: right;\">\n",
       "      <th></th>\n",
       "      <th>Date</th>\n",
       "      <th>Price</th>\n",
       "      <th>predicted_price</th>\n",
       "    </tr>\n",
       "    <tr>\n",
       "      <th>index</th>\n",
       "      <th></th>\n",
       "      <th></th>\n",
       "      <th></th>\n",
       "    </tr>\n",
       "  </thead>\n",
       "  <tbody>\n",
       "    <tr>\n",
       "      <th>7209</th>\n",
       "      <td>2015-10-20</td>\n",
       "      <td>46.93</td>\n",
       "      <td>49.121674</td>\n",
       "    </tr>\n",
       "    <tr>\n",
       "      <th>7210</th>\n",
       "      <td>2015-10-21</td>\n",
       "      <td>46.72</td>\n",
       "      <td>47.891819</td>\n",
       "    </tr>\n",
       "    <tr>\n",
       "      <th>7211</th>\n",
       "      <td>2015-10-22</td>\n",
       "      <td>46.59</td>\n",
       "      <td>47.107132</td>\n",
       "    </tr>\n",
       "    <tr>\n",
       "      <th>7212</th>\n",
       "      <td>2015-10-23</td>\n",
       "      <td>46.30</td>\n",
       "      <td>46.839802</td>\n",
       "    </tr>\n",
       "    <tr>\n",
       "      <th>7213</th>\n",
       "      <td>2015-10-26</td>\n",
       "      <td>46.57</td>\n",
       "      <td>46.725708</td>\n",
       "    </tr>\n",
       "    <tr>\n",
       "      <th>...</th>\n",
       "      <td>...</td>\n",
       "      <td>...</td>\n",
       "      <td>...</td>\n",
       "    </tr>\n",
       "    <tr>\n",
       "      <th>8906</th>\n",
       "      <td>2022-06-21</td>\n",
       "      <td>118.51</td>\n",
       "      <td>119.753609</td>\n",
       "    </tr>\n",
       "    <tr>\n",
       "      <th>8907</th>\n",
       "      <td>2022-06-22</td>\n",
       "      <td>115.54</td>\n",
       "      <td>119.873322</td>\n",
       "    </tr>\n",
       "    <tr>\n",
       "      <th>8908</th>\n",
       "      <td>2022-06-23</td>\n",
       "      <td>114.50</td>\n",
       "      <td>119.802711</td>\n",
       "    </tr>\n",
       "    <tr>\n",
       "      <th>8909</th>\n",
       "      <td>2022-06-24</td>\n",
       "      <td>117.36</td>\n",
       "      <td>116.488800</td>\n",
       "    </tr>\n",
       "    <tr>\n",
       "      <th>8910</th>\n",
       "      <td>2022-06-27</td>\n",
       "      <td>119.69</td>\n",
       "      <td>115.754257</td>\n",
       "    </tr>\n",
       "  </tbody>\n",
       "</table>\n",
       "<p>1702 rows × 3 columns</p>\n",
       "</div>"
      ],
      "text/plain": [
       "            Date   Price  predicted_price\n",
       "index                                    \n",
       "7209  2015-10-20   46.93        49.121674\n",
       "7210  2015-10-21   46.72        47.891819\n",
       "7211  2015-10-22   46.59        47.107132\n",
       "7212  2015-10-23   46.30        46.839802\n",
       "7213  2015-10-26   46.57        46.725708\n",
       "...          ...     ...              ...\n",
       "8906  2022-06-21  118.51       119.753609\n",
       "8907  2022-06-22  115.54       119.873322\n",
       "8908  2022-06-23  114.50       119.802711\n",
       "8909  2022-06-24  117.36       116.488800\n",
       "8910  2022-06-27  119.69       115.754257\n",
       "\n",
       "[1702 rows x 3 columns]"
      ]
     },
     "execution_count": 78,
     "metadata": {},
     "output_type": "execute_result"
    }
   ],
   "source": [
    "result_1"
   ]
  },
  {
   "cell_type": "code",
   "execution_count": 79,
   "id": "511bc85a",
   "metadata": {},
   "outputs": [
    {
     "data": {
      "image/png": "[encoded data removed]",
      "text/plain": [
       "<Figure size 864x432 with 1 Axes>"
      ]
     },
     "metadata": {
      "needs_background": "light"
     },
     "output_type": "display_data"
    }
   ],
   "source": [
    "result_1.plot(x='Date',y=['Price','predicted_price'],figsize=(12,6));"
   ]
  },
  {
   "cell_type": "code",
   "execution_count": 80,
   "id": "bb54c4ba",
   "metadata": {},
   "outputs": [
    {
     "data": {
      "text/html": [
       "<div>\n",
       "<style scoped>\n",
       "    .dataframe tbody tr th:only-of-type {\n",
       "        vertical-align: middle;\n",
       "    }\n",
       "\n",
       "    .dataframe tbody tr th {\n",
       "        vertical-align: top;\n",
       "    }\n",
       "\n",
       "    .dataframe thead th {\n",
       "        text-align: right;\n",
       "    }\n",
       "</style>\n",
       "<table border=\"1\" class=\"dataframe\">\n",
       "  <thead>\n",
       "    <tr style=\"text-align: right;\">\n",
       "      <th></th>\n",
       "      <th>Date</th>\n",
       "      <th>Price</th>\n",
       "      <th>predicted_price</th>\n",
       "    </tr>\n",
       "  </thead>\n",
       "  <tbody>\n",
       "    <tr>\n",
       "      <th>0</th>\n",
       "      <td>1987-05-20</td>\n",
       "      <td>18.63</td>\n",
       "      <td>17.710529</td>\n",
       "    </tr>\n",
       "    <tr>\n",
       "      <th>1</th>\n",
       "      <td>1987-05-21</td>\n",
       "      <td>18.45</td>\n",
       "      <td>18.081800</td>\n",
       "    </tr>\n",
       "    <tr>\n",
       "      <th>2</th>\n",
       "      <td>1987-05-22</td>\n",
       "      <td>18.55</td>\n",
       "      <td>18.112291</td>\n",
       "    </tr>\n",
       "    <tr>\n",
       "      <th>3</th>\n",
       "      <td>1987-05-25</td>\n",
       "      <td>18.60</td>\n",
       "      <td>18.051460</td>\n",
       "    </tr>\n",
       "    <tr>\n",
       "      <th>4</th>\n",
       "      <td>1987-05-26</td>\n",
       "      <td>18.63</td>\n",
       "      <td>18.291286</td>\n",
       "    </tr>\n",
       "    <tr>\n",
       "      <th>...</th>\n",
       "      <td>...</td>\n",
       "      <td>...</td>\n",
       "      <td>...</td>\n",
       "    </tr>\n",
       "    <tr>\n",
       "      <th>8906</th>\n",
       "      <td>2022-06-21</td>\n",
       "      <td>118.51</td>\n",
       "      <td>119.753609</td>\n",
       "    </tr>\n",
       "    <tr>\n",
       "      <th>8907</th>\n",
       "      <td>2022-06-22</td>\n",
       "      <td>115.54</td>\n",
       "      <td>119.873322</td>\n",
       "    </tr>\n",
       "    <tr>\n",
       "      <th>8908</th>\n",
       "      <td>2022-06-23</td>\n",
       "      <td>114.50</td>\n",
       "      <td>119.802711</td>\n",
       "    </tr>\n",
       "    <tr>\n",
       "      <th>8909</th>\n",
       "      <td>2022-06-24</td>\n",
       "      <td>117.36</td>\n",
       "      <td>116.488800</td>\n",
       "    </tr>\n",
       "    <tr>\n",
       "      <th>8910</th>\n",
       "      <td>2022-06-27</td>\n",
       "      <td>119.69</td>\n",
       "      <td>115.754257</td>\n",
       "    </tr>\n",
       "  </tbody>\n",
       "</table>\n",
       "<p>8749 rows × 3 columns</p>\n",
       "</div>"
      ],
      "text/plain": [
       "           Date   Price  predicted_price\n",
       "0    1987-05-20   18.63        17.710529\n",
       "1    1987-05-21   18.45        18.081800\n",
       "2    1987-05-22   18.55        18.112291\n",
       "3    1987-05-25   18.60        18.051460\n",
       "4    1987-05-26   18.63        18.291286\n",
       "...         ...     ...              ...\n",
       "8906 2022-06-21  118.51       119.753609\n",
       "8907 2022-06-22  115.54       119.873322\n",
       "8908 2022-06-23  114.50       119.802711\n",
       "8909 2022-06-24  117.36       116.488800\n",
       "8910 2022-06-27  119.69       115.754257\n",
       "\n",
       "[8749 rows x 3 columns]"
      ]
     },
     "execution_count": 80,
     "metadata": {},
     "output_type": "execute_result"
    }
   ],
   "source": [
    "final_result = pd.concat([result,result_1],axis=0,join='outer')\n",
    "final_result"
   ]
  },
  {
   "cell_type": "code",
   "execution_count": 83,
   "id": "51927f1f",
   "metadata": {},
   "outputs": [
    {
     "data": {
      "image/png": "[encoded data removed]",
      "text/plain": [
       "<Figure size 864x432 with 1 Axes>"
      ]
     },
     "metadata": {
      "needs_background": "light"
     },
     "output_type": "display_data"
    }
   ],
   "source": [
    "final_result.plot(x='Date',y=['Price','predicted_price'],figsize=(12,6));"
   ]
  },
  {
   "cell_type": "code",
   "execution_count": 105,
   "id": "3a462573",
   "metadata": {},
   "outputs": [],
   "source": [
    "model.save(r'C:\\Users\\91775\\DATA SCIENCE\\projects\\Forecasting_crude_oil\\Ipynb files\\lstm.h5')"
   ]
  },
  {
   "cell_type": "code",
   "execution_count": null,
   "id": "ce88fd6d",
   "metadata": {},
   "outputs": [],
   "source": [
    "# from tensorflow import keras \n",
    "# model = keras.models.load_model('path/to/location')"
   ]
  },
  {
   "cell_type": "markdown",
   "id": "80d529cf",
   "metadata": {},
   "source": [
    "----"
   ]
  },
  {
   "cell_type": "code",
   "execution_count": null,
   "id": "1c0df530",
   "metadata": {},
   "outputs": [],
   "source": []
  },
  {
   "cell_type": "code",
   "execution_count": null,
   "id": "94c41a84",
   "metadata": {},
   "outputs": [],
   "source": []
  },
  {
   "cell_type": "code",
   "execution_count": null,
   "id": "ffcd1ef8",
   "metadata": {},
   "outputs": [],
   "source": []
  },
  {
   "cell_type": "code",
   "execution_count": null,
   "id": "5202af4b",
   "metadata": {},
   "outputs": [],
   "source": []
  }
 ],
 "metadata": {
  "kernelspec": {
   "display_name": "Python 3 (ipykernel)",
   "language": "python",
   "name": "python3"
  },
  "language_info": {
   "codemirror_mode": {
    "name": "ipython",
    "version": 3
   },
   "file_extension": ".py",
   "mimetype": "text/x-python",
   "name": "python",
   "nbconvert_exporter": "python",
   "pygments_lexer": "ipython3",
   "version": "3.10.4"
  }
 },
 "nbformat": 4,
 "nbformat_minor": 5
}
