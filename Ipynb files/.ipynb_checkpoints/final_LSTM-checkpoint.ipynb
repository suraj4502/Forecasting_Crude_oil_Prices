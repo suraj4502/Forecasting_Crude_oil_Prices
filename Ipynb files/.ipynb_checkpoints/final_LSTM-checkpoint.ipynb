{
 "cells": [
  {
   "cell_type": "code",
   "execution_count": 1,
   "id": "a81c6949",
   "metadata": {},
   "outputs": [],
   "source": [
    "import pandas as pd\n",
    "import numpy as np\n",
    "import tensorflow as tf\n",
    "from tensorflow import keras\n",
    "from tensorflow.keras import layers\n",
    "from tensorflow.keras.models import Sequential\n",
    "from tensorflow.keras.layers import LSTM\n",
    "from tensorflow.keras.layers import Dropout\n",
    "from tensorflow.keras.layers import Dense"
   ]
  },
  {
   "cell_type": "code",
   "execution_count": 3,
   "id": "c3d075d0",
   "metadata": {},
   "outputs": [],
   "source": [
    "def data_preprocessor(file_path):\n",
    "    df = pd.read_excel(file_path, sheet_name='Data 1')\n",
    "    df = df.loc[2:]\n",
    "    df=df.rename(columns={'Back to Contents':'Date','Data 1: Europe Brent Spot Price FOB (Dollars per Barrel)':'Price'})\n",
    "    df['Date']= pd.to_datetime(df['Date'])\n",
    "    df['Price']= pd.to_numeric(df['Price'])\n",
    "    df['Years']= df.Date.dt.strftime(\"%Y\") # Year Extraction\n",
    "    df['Months']= df.Date.dt.strftime(\"%B\") # month extraction\n",
    "    return df"
   ]
  },
  {
   "cell_type": "code",
   "execution_count": 4,
   "id": "5842540e",
   "metadata": {},
   "outputs": [],
   "source": [
    "df = data_preprocessor('RBRTEd.xls')"
   ]
  },
  {
   "cell_type": "code",
   "execution_count": 5,
   "id": "97cc3982",
   "metadata": {},
   "outputs": [
    {
     "data": {
      "text/html": [
       "<div>\n",
       "<style scoped>\n",
       "    .dataframe tbody tr th:only-of-type {\n",
       "        vertical-align: middle;\n",
       "    }\n",
       "\n",
       "    .dataframe tbody tr th {\n",
       "        vertical-align: top;\n",
       "    }\n",
       "\n",
       "    .dataframe thead th {\n",
       "        text-align: right;\n",
       "    }\n",
       "</style>\n",
       "<table border=\"1\" class=\"dataframe\">\n",
       "  <thead>\n",
       "    <tr style=\"text-align: right;\">\n",
       "      <th></th>\n",
       "      <th>Date</th>\n",
       "      <th>Price</th>\n",
       "      <th>Years</th>\n",
       "      <th>Months</th>\n",
       "    </tr>\n",
       "  </thead>\n",
       "  <tbody>\n",
       "    <tr>\n",
       "      <th>2</th>\n",
       "      <td>1987-05-20</td>\n",
       "      <td>18.63</td>\n",
       "      <td>1987</td>\n",
       "      <td>May</td>\n",
       "    </tr>\n",
       "    <tr>\n",
       "      <th>3</th>\n",
       "      <td>1987-05-21</td>\n",
       "      <td>18.45</td>\n",
       "      <td>1987</td>\n",
       "      <td>May</td>\n",
       "    </tr>\n",
       "    <tr>\n",
       "      <th>4</th>\n",
       "      <td>1987-05-22</td>\n",
       "      <td>18.55</td>\n",
       "      <td>1987</td>\n",
       "      <td>May</td>\n",
       "    </tr>\n",
       "    <tr>\n",
       "      <th>5</th>\n",
       "      <td>1987-05-25</td>\n",
       "      <td>18.60</td>\n",
       "      <td>1987</td>\n",
       "      <td>May</td>\n",
       "    </tr>\n",
       "    <tr>\n",
       "      <th>6</th>\n",
       "      <td>1987-05-26</td>\n",
       "      <td>18.63</td>\n",
       "      <td>1987</td>\n",
       "      <td>May</td>\n",
       "    </tr>\n",
       "    <tr>\n",
       "      <th>...</th>\n",
       "      <td>...</td>\n",
       "      <td>...</td>\n",
       "      <td>...</td>\n",
       "      <td>...</td>\n",
       "    </tr>\n",
       "    <tr>\n",
       "      <th>9158</th>\n",
       "      <td>2023-06-20</td>\n",
       "      <td>75.79</td>\n",
       "      <td>2023</td>\n",
       "      <td>June</td>\n",
       "    </tr>\n",
       "    <tr>\n",
       "      <th>9159</th>\n",
       "      <td>2023-06-21</td>\n",
       "      <td>76.92</td>\n",
       "      <td>2023</td>\n",
       "      <td>June</td>\n",
       "    </tr>\n",
       "    <tr>\n",
       "      <th>9160</th>\n",
       "      <td>2023-06-22</td>\n",
       "      <td>73.93</td>\n",
       "      <td>2023</td>\n",
       "      <td>June</td>\n",
       "    </tr>\n",
       "    <tr>\n",
       "      <th>9161</th>\n",
       "      <td>2023-06-23</td>\n",
       "      <td>73.56</td>\n",
       "      <td>2023</td>\n",
       "      <td>June</td>\n",
       "    </tr>\n",
       "    <tr>\n",
       "      <th>9162</th>\n",
       "      <td>2023-06-26</td>\n",
       "      <td>73.86</td>\n",
       "      <td>2023</td>\n",
       "      <td>June</td>\n",
       "    </tr>\n",
       "  </tbody>\n",
       "</table>\n",
       "<p>9161 rows × 4 columns</p>\n",
       "</div>"
      ],
      "text/plain": [
       "           Date  Price Years Months\n",
       "2    1987-05-20  18.63  1987    May\n",
       "3    1987-05-21  18.45  1987    May\n",
       "4    1987-05-22  18.55  1987    May\n",
       "5    1987-05-25  18.60  1987    May\n",
       "6    1987-05-26  18.63  1987    May\n",
       "...         ...    ...   ...    ...\n",
       "9158 2023-06-20  75.79  2023   June\n",
       "9159 2023-06-21  76.92  2023   June\n",
       "9160 2023-06-22  73.93  2023   June\n",
       "9161 2023-06-23  73.56  2023   June\n",
       "9162 2023-06-26  73.86  2023   June\n",
       "\n",
       "[9161 rows x 4 columns]"
      ]
     },
     "execution_count": 5,
     "metadata": {},
     "output_type": "execute_result"
    }
   ],
   "source": [
    "df"
   ]
  },
  {
   "cell_type": "code",
   "execution_count": 6,
   "id": "11116859",
   "metadata": {},
   "outputs": [
    {
     "data": {
      "text/html": [
       "<div>\n",
       "<style scoped>\n",
       "    .dataframe tbody tr th:only-of-type {\n",
       "        vertical-align: middle;\n",
       "    }\n",
       "\n",
       "    .dataframe tbody tr th {\n",
       "        vertical-align: top;\n",
       "    }\n",
       "\n",
       "    .dataframe thead th {\n",
       "        text-align: right;\n",
       "    }\n",
       "</style>\n",
       "<table border=\"1\" class=\"dataframe\">\n",
       "  <thead>\n",
       "    <tr style=\"text-align: right;\">\n",
       "      <th></th>\n",
       "      <th>Date</th>\n",
       "      <th>Price</th>\n",
       "      <th>Years</th>\n",
       "      <th>Months</th>\n",
       "    </tr>\n",
       "  </thead>\n",
       "  <tbody>\n",
       "    <tr>\n",
       "      <th>2</th>\n",
       "      <td>1987-05-20</td>\n",
       "      <td>18.63</td>\n",
       "      <td>1987</td>\n",
       "      <td>May</td>\n",
       "    </tr>\n",
       "    <tr>\n",
       "      <th>3</th>\n",
       "      <td>1987-05-21</td>\n",
       "      <td>18.45</td>\n",
       "      <td>1987</td>\n",
       "      <td>May</td>\n",
       "    </tr>\n",
       "    <tr>\n",
       "      <th>4</th>\n",
       "      <td>1987-05-22</td>\n",
       "      <td>18.55</td>\n",
       "      <td>1987</td>\n",
       "      <td>May</td>\n",
       "    </tr>\n",
       "    <tr>\n",
       "      <th>5</th>\n",
       "      <td>1987-05-25</td>\n",
       "      <td>18.60</td>\n",
       "      <td>1987</td>\n",
       "      <td>May</td>\n",
       "    </tr>\n",
       "    <tr>\n",
       "      <th>6</th>\n",
       "      <td>1987-05-26</td>\n",
       "      <td>18.63</td>\n",
       "      <td>1987</td>\n",
       "      <td>May</td>\n",
       "    </tr>\n",
       "    <tr>\n",
       "      <th>...</th>\n",
       "      <td>...</td>\n",
       "      <td>...</td>\n",
       "      <td>...</td>\n",
       "      <td>...</td>\n",
       "    </tr>\n",
       "    <tr>\n",
       "      <th>9158</th>\n",
       "      <td>2023-06-20</td>\n",
       "      <td>75.79</td>\n",
       "      <td>2023</td>\n",
       "      <td>June</td>\n",
       "    </tr>\n",
       "    <tr>\n",
       "      <th>9159</th>\n",
       "      <td>2023-06-21</td>\n",
       "      <td>76.92</td>\n",
       "      <td>2023</td>\n",
       "      <td>June</td>\n",
       "    </tr>\n",
       "    <tr>\n",
       "      <th>9160</th>\n",
       "      <td>2023-06-22</td>\n",
       "      <td>73.93</td>\n",
       "      <td>2023</td>\n",
       "      <td>June</td>\n",
       "    </tr>\n",
       "    <tr>\n",
       "      <th>9161</th>\n",
       "      <td>2023-06-23</td>\n",
       "      <td>73.56</td>\n",
       "      <td>2023</td>\n",
       "      <td>June</td>\n",
       "    </tr>\n",
       "    <tr>\n",
       "      <th>9162</th>\n",
       "      <td>2023-06-26</td>\n",
       "      <td>73.86</td>\n",
       "      <td>2023</td>\n",
       "      <td>June</td>\n",
       "    </tr>\n",
       "  </tbody>\n",
       "</table>\n",
       "<p>9161 rows × 4 columns</p>\n",
       "</div>"
      ],
      "text/plain": [
       "           Date  Price Years Months\n",
       "2    1987-05-20  18.63  1987    May\n",
       "3    1987-05-21  18.45  1987    May\n",
       "4    1987-05-22  18.55  1987    May\n",
       "5    1987-05-25  18.60  1987    May\n",
       "6    1987-05-26  18.63  1987    May\n",
       "...         ...    ...   ...    ...\n",
       "9158 2023-06-20  75.79  2023   June\n",
       "9159 2023-06-21  76.92  2023   June\n",
       "9160 2023-06-22  73.93  2023   June\n",
       "9161 2023-06-23  73.56  2023   June\n",
       "9162 2023-06-26  73.86  2023   June\n",
       "\n",
       "[9161 rows x 4 columns]"
      ]
     },
     "execution_count": 6,
     "metadata": {},
     "output_type": "execute_result"
    }
   ],
   "source": [
    "df['Date'] = df['Date'].dt.normalize()\n",
    "df"
   ]
  },
  {
   "cell_type": "code",
   "execution_count": 7,
   "id": "29dc8cb7",
   "metadata": {},
   "outputs": [],
   "source": [
    "y = df['Price'].fillna(method='ffill')\n",
    "y = y.values.reshape(-1, 1)"
   ]
  },
  {
   "cell_type": "code",
   "execution_count": 8,
   "id": "014d8c9a",
   "metadata": {},
   "outputs": [
    {
     "data": {
      "text/plain": [
       "(9161, 1)"
      ]
     },
     "execution_count": 8,
     "metadata": {},
     "output_type": "execute_result"
    }
   ],
   "source": [
    "y.shape"
   ]
  },
  {
   "cell_type": "code",
   "execution_count": 9,
   "id": "d96dc1a2",
   "metadata": {},
   "outputs": [
    {
     "data": {
      "text/plain": [
       "array([[18.63],\n",
       "       [18.45],\n",
       "       [18.55],\n",
       "       ...,\n",
       "       [73.93],\n",
       "       [73.56],\n",
       "       [73.86]])"
      ]
     },
     "execution_count": 9,
     "metadata": {},
     "output_type": "execute_result"
    }
   ],
   "source": [
    "y"
   ]
  },
  {
   "cell_type": "code",
   "execution_count": 10,
   "id": "a8219b85",
   "metadata": {},
   "outputs": [],
   "source": [
    "# scale the data\n",
    "from sklearn.preprocessing import MinMaxScaler\n",
    "scaler = MinMaxScaler(feature_range = (0, 1))\n",
    "scaler = scaler.fit(y)\n",
    "y = scaler.transform(y)"
   ]
  },
  {
   "cell_type": "code",
   "execution_count": 11,
   "id": "f81450e2",
   "metadata": {},
   "outputs": [
    {
     "data": {
      "text/plain": [
       "array([[0.07067112],\n",
       "       [0.0693363 ],\n",
       "       [0.07007786],\n",
       "       ...,\n",
       "       [0.4807564 ],\n",
       "       [0.47801261],\n",
       "       [0.4802373 ]])"
      ]
     },
     "execution_count": 11,
     "metadata": {},
     "output_type": "execute_result"
    }
   ],
   "source": [
    "y"
   ]
  },
  {
   "cell_type": "code",
   "execution_count": 12,
   "id": "6757ab49",
   "metadata": {},
   "outputs": [
    {
     "data": {
      "text/plain": [
       "(9161, 1)"
      ]
     },
     "execution_count": 12,
     "metadata": {},
     "output_type": "execute_result"
    }
   ],
   "source": [
    "y.shape"
   ]
  },
  {
   "cell_type": "code",
   "execution_count": 13,
   "id": "ea2dd606",
   "metadata": {},
   "outputs": [
    {
     "data": {
      "text/plain": [
       "9161"
      ]
     },
     "execution_count": 13,
     "metadata": {},
     "output_type": "execute_result"
    }
   ],
   "source": [
    "len(y)"
   ]
  },
  {
   "cell_type": "code",
   "execution_count": 14,
   "id": "c5668faf",
   "metadata": {},
   "outputs": [
    {
     "data": {
      "text/plain": [
       "8822"
      ]
     },
     "execution_count": 14,
     "metadata": {},
     "output_type": "execute_result"
    }
   ],
   "source": [
    "8911- 90 +1"
   ]
  },
  {
   "cell_type": "code",
   "execution_count": 15,
   "id": "576a08d0",
   "metadata": {},
   "outputs": [],
   "source": [
    "# generate the input and output sequences\n",
    "n_lookback = 90  # length of input sequences (lookback period)\n",
    "n_forecast = 90  # length of output sequences (forecast period)\n"
   ]
  },
  {
   "cell_type": "code",
   "execution_count": 16,
   "id": "a21ed2e8",
   "metadata": {},
   "outputs": [],
   "source": [
    "# first_loop=y[90-90 :90]\n",
    "# second_loop = y[91-90 : 91]\n",
    "# Y_first_loop=y[90: 90+90]"
   ]
  },
  {
   "cell_type": "code",
   "execution_count": 17,
   "id": "afadadea",
   "metadata": {},
   "outputs": [],
   "source": [
    "X = []\n",
    "Y = []"
   ]
  },
  {
   "cell_type": "code",
   "execution_count": 20,
   "id": "32d69bd1",
   "metadata": {},
   "outputs": [],
   "source": [
    "for i in range(n_lookback,len(y)-n_forecast+1):  # 90 - 9072\n",
    "    X.append(y[i-n_lookback :1]) #90 - 90 : 90 \n",
    "    Y.append(y[i:i +n_forecast]) #90 : 90+90"
   ]
  },
  {
   "cell_type": "code",
   "execution_count": 21,
   "id": "9066c16a",
   "metadata": {},
   "outputs": [
    {
     "name": "stderr",
     "output_type": "stream",
     "text": [
      "C:\\Users\\91775\\AppData\\Local\\Temp\\ipykernel_17712\\93465556.py:1: VisibleDeprecationWarning: Creating an ndarray from ragged nested sequences (which is a list-or-tuple of lists-or-tuples-or ndarrays with different lengths or shapes) is deprecated. If you meant to do this, you must specify 'dtype=object' when creating the ndarray.\n",
      "  X = np.array(X)\n"
     ]
    }
   ],
   "source": [
    "X = np.array(X)\n",
    "Y = np.array(Y)"
   ]
  },
  {
   "cell_type": "code",
   "execution_count": 22,
   "id": "ce9dda59",
   "metadata": {},
   "outputs": [
    {
     "data": {
      "text/plain": [
       "(8982,)"
      ]
     },
     "execution_count": 22,
     "metadata": {},
     "output_type": "execute_result"
    }
   ],
   "source": [
    "X.shape"
   ]
  },
  {
   "cell_type": "code",
   "execution_count": 23,
   "id": "d4c48cae",
   "metadata": {},
   "outputs": [
    {
     "data": {
      "text/plain": [
       "(8982, 90, 1)"
      ]
     },
     "execution_count": 23,
     "metadata": {},
     "output_type": "execute_result"
    }
   ],
   "source": [
    "Y.shape"
   ]
  },
  {
   "cell_type": "code",
   "execution_count": 24,
   "id": "044eeee9",
   "metadata": {},
   "outputs": [
    {
     "data": {
      "text/plain": [
       "(90, 90, 1)"
      ]
     },
     "execution_count": 24,
     "metadata": {},
     "output_type": "execute_result"
    }
   ],
   "source": [
    "X_ = Y[-n_lookback:len(y)]  # last available input sequence\n",
    "X_.shape"
   ]
  },
  {
   "cell_type": "code",
   "execution_count": 26,
   "id": "a497ead1",
   "metadata": {},
   "outputs": [],
   "source": [
    "from tensorflow import keras \n",
    "model = keras.models.load_model(r\"C:\\Users\\91775\\DATA SCIENCE\\projects\\Forecasting_crude_oil\\Models\\lstm_1.h5\")"
   ]
  },
  {
   "cell_type": "code",
   "execution_count": 27,
   "id": "d561c6ba",
   "metadata": {},
   "outputs": [
    {
     "name": "stdout",
     "output_type": "stream",
     "text": [
      "3/3 [==============================] - 1s 24ms/step\n"
     ]
    }
   ],
   "source": [
    "Y_ = model.predict(X_).reshape(-1, 1)\n",
    "Y_ = scaler.inverse_transform(Y_)"
   ]
  },
  {
   "cell_type": "code",
   "execution_count": 28,
   "id": "cf04112c",
   "metadata": {},
   "outputs": [],
   "source": [
    "# organize the results in a data frame\n",
    "df_past = df"
   ]
  },
  {
   "cell_type": "code",
   "execution_count": 29,
   "id": "1b6a9e14",
   "metadata": {},
   "outputs": [
    {
     "name": "stderr",
     "output_type": "stream",
     "text": [
      "C:\\Users\\91775\\AppData\\Local\\Temp\\ipykernel_17712\\3651424815.py:5: SettingWithCopyWarning: \n",
      "A value is trying to be set on a copy of a slice from a DataFrame\n",
      "\n",
      "See the caveats in the documentation: https://pandas.pydata.org/pandas-docs/stable/user_guide/indexing.html#returning-a-view-versus-a-copy\n",
      "  df_past['Forecast'].iloc[-1] = df_past['Actual'].iloc[-1]\n"
     ]
    }
   ],
   "source": [
    "df_past=df_past.set_index(df_past['Date'])\n",
    "df_past.rename(columns={'index': 'Date', 'Price': 'Actual'}, inplace=True)\n",
    "df_past['Date'] = pd.to_datetime(df_past['Date'])\n",
    "df_past['Forecast'] = np.nan\n",
    "df_past['Forecast'].iloc[-1] = df_past['Actual'].iloc[-1]\n"
   ]
  },
  {
   "cell_type": "code",
   "execution_count": 30,
   "id": "0ba45ade",
   "metadata": {},
   "outputs": [],
   "source": [
    "df_future = pd.DataFrame(columns=['Date', 'Actual', 'Forecast'])\n",
    "df_future['Date'] = pd.date_range(start=df_past['Date'].iloc[-1] + pd.Timedelta(days=1), periods=n_forecast)\n",
    "df_future['Forecast'] = Y_.flatten()\n",
    "df_future['Actual'] = np.nan"
   ]
  },
  {
   "cell_type": "code",
   "execution_count": 31,
   "id": "b325b73d",
   "metadata": {},
   "outputs": [
    {
     "data": {
      "text/html": [
       "<div>\n",
       "<style scoped>\n",
       "    .dataframe tbody tr th:only-of-type {\n",
       "        vertical-align: middle;\n",
       "    }\n",
       "\n",
       "    .dataframe tbody tr th {\n",
       "        vertical-align: top;\n",
       "    }\n",
       "\n",
       "    .dataframe thead th {\n",
       "        text-align: right;\n",
       "    }\n",
       "</style>\n",
       "<table border=\"1\" class=\"dataframe\">\n",
       "  <thead>\n",
       "    <tr style=\"text-align: right;\">\n",
       "      <th></th>\n",
       "      <th>Date</th>\n",
       "      <th>Actual</th>\n",
       "      <th>Forecast</th>\n",
       "    </tr>\n",
       "  </thead>\n",
       "  <tbody>\n",
       "    <tr>\n",
       "      <th>85</th>\n",
       "      <td>2023-09-20</td>\n",
       "      <td>NaN</td>\n",
       "      <td>75.389824</td>\n",
       "    </tr>\n",
       "    <tr>\n",
       "      <th>86</th>\n",
       "      <td>2023-09-21</td>\n",
       "      <td>NaN</td>\n",
       "      <td>76.316055</td>\n",
       "    </tr>\n",
       "    <tr>\n",
       "      <th>87</th>\n",
       "      <td>2023-09-22</td>\n",
       "      <td>NaN</td>\n",
       "      <td>73.975594</td>\n",
       "    </tr>\n",
       "    <tr>\n",
       "      <th>88</th>\n",
       "      <td>2023-09-23</td>\n",
       "      <td>NaN</td>\n",
       "      <td>73.767693</td>\n",
       "    </tr>\n",
       "    <tr>\n",
       "      <th>89</th>\n",
       "      <td>2023-09-24</td>\n",
       "      <td>NaN</td>\n",
       "      <td>73.825050</td>\n",
       "    </tr>\n",
       "  </tbody>\n",
       "</table>\n",
       "</div>"
      ],
      "text/plain": [
       "         Date  Actual   Forecast\n",
       "85 2023-09-20     NaN  75.389824\n",
       "86 2023-09-21     NaN  76.316055\n",
       "87 2023-09-22     NaN  73.975594\n",
       "88 2023-09-23     NaN  73.767693\n",
       "89 2023-09-24     NaN  73.825050"
      ]
     },
     "execution_count": 31,
     "metadata": {},
     "output_type": "execute_result"
    }
   ],
   "source": [
    "df_future.tail()"
   ]
  },
  {
   "cell_type": "code",
   "execution_count": 28,
   "id": "99379b6e",
   "metadata": {},
   "outputs": [],
   "source": [
    "# model.save(r'C:\\Users\\91775\\DATA SCIENCE\\projects\\Forecasting_crude_oil\\Ipynb files\\lstm_1.h5')"
   ]
  },
  {
   "cell_type": "code",
   "execution_count": 32,
   "id": "cf48f703",
   "metadata": {},
   "outputs": [
    {
     "name": "stderr",
     "output_type": "stream",
     "text": [
      "C:\\Users\\91775\\AppData\\Local\\Temp\\ipykernel_17712\\1673357870.py:1: FutureWarning: The frame.append method is deprecated and will be removed from pandas in a future version. Use pandas.concat instead.\n",
      "  results = df_past.append(df_future).set_index('Date')\n"
     ]
    }
   ],
   "source": [
    "results = df_past.append(df_future).set_index('Date')"
   ]
  },
  {
   "cell_type": "code",
   "execution_count": 33,
   "id": "af126a81",
   "metadata": {},
   "outputs": [
    {
     "data": {
      "text/html": [
       "<div>\n",
       "<style scoped>\n",
       "    .dataframe tbody tr th:only-of-type {\n",
       "        vertical-align: middle;\n",
       "    }\n",
       "\n",
       "    .dataframe tbody tr th {\n",
       "        vertical-align: top;\n",
       "    }\n",
       "\n",
       "    .dataframe thead th {\n",
       "        text-align: right;\n",
       "    }\n",
       "</style>\n",
       "<table border=\"1\" class=\"dataframe\">\n",
       "  <thead>\n",
       "    <tr style=\"text-align: right;\">\n",
       "      <th></th>\n",
       "      <th>Actual</th>\n",
       "      <th>Years</th>\n",
       "      <th>Months</th>\n",
       "      <th>Forecast</th>\n",
       "    </tr>\n",
       "    <tr>\n",
       "      <th>Date</th>\n",
       "      <th></th>\n",
       "      <th></th>\n",
       "      <th></th>\n",
       "      <th></th>\n",
       "    </tr>\n",
       "  </thead>\n",
       "  <tbody>\n",
       "    <tr>\n",
       "      <th>2023-09-20</th>\n",
       "      <td>NaN</td>\n",
       "      <td>NaN</td>\n",
       "      <td>NaN</td>\n",
       "      <td>75.389824</td>\n",
       "    </tr>\n",
       "    <tr>\n",
       "      <th>2023-09-21</th>\n",
       "      <td>NaN</td>\n",
       "      <td>NaN</td>\n",
       "      <td>NaN</td>\n",
       "      <td>76.316055</td>\n",
       "    </tr>\n",
       "    <tr>\n",
       "      <th>2023-09-22</th>\n",
       "      <td>NaN</td>\n",
       "      <td>NaN</td>\n",
       "      <td>NaN</td>\n",
       "      <td>73.975594</td>\n",
       "    </tr>\n",
       "    <tr>\n",
       "      <th>2023-09-23</th>\n",
       "      <td>NaN</td>\n",
       "      <td>NaN</td>\n",
       "      <td>NaN</td>\n",
       "      <td>73.767693</td>\n",
       "    </tr>\n",
       "    <tr>\n",
       "      <th>2023-09-24</th>\n",
       "      <td>NaN</td>\n",
       "      <td>NaN</td>\n",
       "      <td>NaN</td>\n",
       "      <td>73.825050</td>\n",
       "    </tr>\n",
       "  </tbody>\n",
       "</table>\n",
       "</div>"
      ],
      "text/plain": [
       "            Actual Years Months   Forecast\n",
       "Date                                      \n",
       "2023-09-20     NaN   NaN    NaN  75.389824\n",
       "2023-09-21     NaN   NaN    NaN  76.316055\n",
       "2023-09-22     NaN   NaN    NaN  73.975594\n",
       "2023-09-23     NaN   NaN    NaN  73.767693\n",
       "2023-09-24     NaN   NaN    NaN  73.825050"
      ]
     },
     "execution_count": 33,
     "metadata": {},
     "output_type": "execute_result"
    }
   ],
   "source": [
    "results.tail()"
   ]
  },
  {
   "cell_type": "code",
   "execution_count": 35,
   "id": "f92bc7fd",
   "metadata": {},
   "outputs": [
    {
     "data": {
      "image/png": "[encoded data removed]",
      "text/plain": [
       "<Figure size 640x480 with 1 Axes>"
      ]
     },
     "metadata": {},
     "output_type": "display_data"
    }
   ],
   "source": [
    " results.loc['2020-09-25':'2023-09-24'].plot();"
   ]
  },
  {
   "cell_type": "code",
   "execution_count": 36,
   "id": "df35d49e",
   "metadata": {},
   "outputs": [],
   "source": [
    "import plotly.express as px"
   ]
  },
  {
   "cell_type": "code",
   "execution_count": 38,
   "id": "7fd7faf4",
   "metadata": {},
   "outputs": [
    {
     "data": {
      "image/png": "[encoded data removed]",
      "text/plain": [
       "<Figure size 640x480 with 1 Axes>"
      ]
     },
     "metadata": {},
     "output_type": "display_data"
    }
   ],
   "source": [
    "results.plot();"
   ]
  },
  {
   "cell_type": "code",
   "execution_count": 41,
   "id": "c19a418f",
   "metadata": {},
   "outputs": [],
   "source": [
    "final = results.loc['2022-06-28': '2023-09-24','Forecast'].reset_index()"
   ]
  },
  {
   "cell_type": "code",
   "execution_count": 42,
   "id": "dd207f58",
   "metadata": {},
   "outputs": [
    {
     "name": "stdout",
     "output_type": "stream",
     "text": [
      "<class 'pandas.core.frame.DataFrame'>\n",
      "RangeIndex: 340 entries, 0 to 339\n",
      "Data columns (total 2 columns):\n",
      " #   Column    Non-Null Count  Dtype         \n",
      "---  ------    --------------  -----         \n",
      " 0   Date      340 non-null    datetime64[ns]\n",
      " 1   Forecast  91 non-null     float64       \n",
      "dtypes: datetime64[ns](1), float64(1)\n",
      "memory usage: 5.4 KB\n"
     ]
    }
   ],
   "source": [
    "final.info()"
   ]
  },
  {
   "cell_type": "code",
   "execution_count": 43,
   "id": "ed34c1ab",
   "metadata": {},
   "outputs": [],
   "source": [
    "final['Date']=final['Date'].dt.normalize()"
   ]
  },
  {
   "cell_type": "code",
   "execution_count": 44,
   "id": "3617c245",
   "metadata": {},
   "outputs": [
    {
     "name": "stdout",
     "output_type": "stream",
     "text": [
      "<class 'pandas.core.frame.DataFrame'>\n",
      "RangeIndex: 340 entries, 0 to 339\n",
      "Data columns (total 2 columns):\n",
      " #   Column    Non-Null Count  Dtype         \n",
      "---  ------    --------------  -----         \n",
      " 0   Date      340 non-null    datetime64[ns]\n",
      " 1   Forecast  91 non-null     float64       \n",
      "dtypes: datetime64[ns](1), float64(1)\n",
      "memory usage: 5.4 KB\n"
     ]
    }
   ],
   "source": [
    "final.info()"
   ]
  },
  {
   "cell_type": "code",
   "execution_count": 45,
   "id": "e4eb0358",
   "metadata": {},
   "outputs": [
    {
     "data": {
      "text/html": [
       "<div>\n",
       "<style scoped>\n",
       "    .dataframe tbody tr th:only-of-type {\n",
       "        vertical-align: middle;\n",
       "    }\n",
       "\n",
       "    .dataframe tbody tr th {\n",
       "        vertical-align: top;\n",
       "    }\n",
       "\n",
       "    .dataframe thead th {\n",
       "        text-align: right;\n",
       "    }\n",
       "</style>\n",
       "<table border=\"1\" class=\"dataframe\">\n",
       "  <thead>\n",
       "    <tr style=\"text-align: right;\">\n",
       "      <th></th>\n",
       "      <th>Date</th>\n",
       "      <th>Forecast</th>\n",
       "    </tr>\n",
       "  </thead>\n",
       "  <tbody>\n",
       "    <tr>\n",
       "      <th>0</th>\n",
       "      <td>2022-06-28</td>\n",
       "      <td>NaN</td>\n",
       "    </tr>\n",
       "    <tr>\n",
       "      <th>1</th>\n",
       "      <td>2022-06-29</td>\n",
       "      <td>NaN</td>\n",
       "    </tr>\n",
       "    <tr>\n",
       "      <th>2</th>\n",
       "      <td>2022-06-30</td>\n",
       "      <td>NaN</td>\n",
       "    </tr>\n",
       "    <tr>\n",
       "      <th>3</th>\n",
       "      <td>2022-07-01</td>\n",
       "      <td>NaN</td>\n",
       "    </tr>\n",
       "    <tr>\n",
       "      <th>4</th>\n",
       "      <td>2022-07-04</td>\n",
       "      <td>NaN</td>\n",
       "    </tr>\n",
       "  </tbody>\n",
       "</table>\n",
       "</div>"
      ],
      "text/plain": [
       "        Date  Forecast\n",
       "0 2022-06-28       NaN\n",
       "1 2022-06-29       NaN\n",
       "2 2022-06-30       NaN\n",
       "3 2022-07-01       NaN\n",
       "4 2022-07-04       NaN"
      ]
     },
     "execution_count": 45,
     "metadata": {},
     "output_type": "execute_result"
    }
   ],
   "source": [
    "final.head()"
   ]
  },
  {
   "cell_type": "code",
   "execution_count": 46,
   "id": "0a9bb95a",
   "metadata": {},
   "outputs": [],
   "source": [
    "d ='2022-07-29'"
   ]
  },
  {
   "cell_type": "code",
   "execution_count": 47,
   "id": "2b810681",
   "metadata": {},
   "outputs": [],
   "source": [
    "#final=final.reset_index()\n",
    "final['Date']= pd.to_datetime(final['Date'])"
   ]
  },
  {
   "cell_type": "code",
   "execution_count": 48,
   "id": "ae1262dc",
   "metadata": {},
   "outputs": [
    {
     "name": "stdout",
     "output_type": "stream",
     "text": [
      "<class 'pandas.core.frame.DataFrame'>\n",
      "RangeIndex: 340 entries, 0 to 339\n",
      "Data columns (total 2 columns):\n",
      " #   Column    Non-Null Count  Dtype         \n",
      "---  ------    --------------  -----         \n",
      " 0   Date      340 non-null    datetime64[ns]\n",
      " 1   Forecast  91 non-null     float64       \n",
      "dtypes: datetime64[ns](1), float64(1)\n",
      "memory usage: 5.4 KB\n"
     ]
    }
   ],
   "source": [
    "final.info()"
   ]
  },
  {
   "cell_type": "code",
   "execution_count": null,
   "id": "71c8e713",
   "metadata": {},
   "outputs": [],
   "source": [
    "final.info()"
   ]
  },
  {
   "cell_type": "code",
   "execution_count": null,
   "id": "f63c6300",
   "metadata": {},
   "outputs": [],
   "source": [
    "final = final.set_index(final['Date'])"
   ]
  },
  {
   "cell_type": "code",
   "execution_count": null,
   "id": "b63c9dea",
   "metadata": {},
   "outputs": [],
   "source": [
    "# final['Date']=final['Date'].dt.normalize()\n",
    "# day_1 = pd.to_datetime('2022-06-28').date()\n",
    "last_date= pd.to_datetime('2022-07-29').date()\n",
    "output=final.loc[day_1:last_date]\n",
    "output = output.rename({'Forecast':\"Forecasted OIL Prices\"},axis='columns')\n",
    "output= pd.DataFrame(output)"
   ]
  },
  {
   "cell_type": "code",
   "execution_count": null,
   "id": "5dbf10d2",
   "metadata": {},
   "outputs": [],
   "source": [
    "output.info()"
   ]
  },
  {
   "cell_type": "code",
   "execution_count": null,
   "id": "5660d37a",
   "metadata": {},
   "outputs": [],
   "source": [
    "type(day_1)"
   ]
  },
  {
   "cell_type": "code",
   "execution_count": null,
   "id": "101428cb",
   "metadata": {},
   "outputs": [],
   "source": [
    "type(last_date)"
   ]
  },
  {
   "cell_type": "code",
   "execution_count": null,
   "id": "15297bca",
   "metadata": {},
   "outputs": [],
   "source": []
  }
 ],
 "metadata": {
  "kernelspec": {
   "display_name": "Python 3 (ipykernel)",
   "language": "python",
   "name": "python3"
  },
  "language_info": {
   "codemirror_mode": {
    "name": "ipython",
    "version": 3
   },
   "file_extension": ".py",
   "mimetype": "text/x-python",
   "name": "python",
   "nbconvert_exporter": "python",
   "pygments_lexer": "ipython3",
   "version": "3.11.3"
  }
 },
 "nbformat": 4,
 "nbformat_minor": 5
}
